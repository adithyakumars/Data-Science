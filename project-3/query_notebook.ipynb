{
 "cells": [
  {
   "cell_type": "code",
   "execution_count": null,
   "metadata": {},
   "outputs": [],
   "source": [
    "from formulas import map_splitter, bing_maps_query\n",
    "from secrets import BING_MAPS_KEY\n",
    "# from tqdm import tqdm_notebook\n",
    "# import matplotlib.pyplot as plt\n",
    "import time\n",
    "import requests\n",
    "import pandas as pd\n",
    "import os\n",
    "import json\n",
    "# import matplotlib.pyplot as plt\n",
    "# import matplotlib.pyplot as plt"
   ]
  },
  {
   "cell_type": "code",
   "execution_count": null,
   "metadata": {},
   "outputs": [],
   "source": [
    "pwd = os.getcwd()"
   ]
  },
  {
   "cell_type": "code",
   "execution_count": null,
   "metadata": {},
   "outputs": [],
   "source": [
    "coordinates = pd.read_csv(pwd + \"/Square Builder.csv\")\n",
    "coordinates"
   ]
  },
  {
   "cell_type": "code",
   "execution_count": null,
   "metadata": {},
   "outputs": [],
   "source": [
    "pwd = os.getcwd()\n",
    "base_url = \"http://spatial.virtualearth.net/REST/v1/data/Microsoft/PointsOfInterest?\"\n",
    "sq_km = \"1\"\n",
    "bing_maps_key = BING_MAPS_KEY"
   ]
  },
  {
   "cell_type": "code",
   "execution_count": null,
   "metadata": {},
   "outputs": [],
   "source": [
    "upper_left = [coordinates.iloc[0, 1], coordinates.iloc[0, 2]]\n",
    "lower_left = [coordinates.iloc[1, 1], coordinates.iloc[1, 2]]\n",
    "upper_right = [coordinates.iloc[2, 1], coordinates.iloc[2, 2]]\n",
    "lower_right = [coordinates.iloc[3, 1], coordinates.iloc[3, 2]]"
   ]
  },
  {
   "cell_type": "code",
   "execution_count": null,
   "metadata": {},
   "outputs": [],
   "source": [
    "query_points = map_splitter(upper_left, upper_right, lower_right)"
   ]
  },
  {
   "cell_type": "code",
   "execution_count": null,
   "metadata": {},
   "outputs": [],
   "source": [
    "query_points"
   ]
  },
  {
   "cell_type": "code",
   "execution_count": null,
   "metadata": {},
   "outputs": [],
   "source": [
    "x = [z[0] for z in query_points]\n",
    "y = [a[1] for a in query_points]\n"
   ]
  },
  {
   "cell_type": "code",
   "execution_count": null,
   "metadata": {},
   "outputs": [],
   "source": [
    "# plt.scatter(x, y)"
   ]
  },
  {
   "cell_type": "code",
   "execution_count": null,
   "metadata": {},
   "outputs": [],
   "source": [
    "entity_input = str(8211)\n",
    "counter = 0\n",
    "for i in query_points:\n",
    "    to_save = bing_maps_query(i[0], i[1], 1, entity_input, bing_maps_key, base_url)\n",
    "\n",
    "    with open(pwd + f\"/{str(counter)}.txt\", 'w') as outfile:\n",
    "        json.dump(to_save, outfile) # Save to make sure that I don't lose data\n",
    "\n",
    "    counter += 1\n"
   ]
  },
  {
   "cell_type": "code",
   "execution_count": null,
   "metadata": {},
   "outputs": [],
   "source": [
    "with open(pwd + \"/7.txt\") as f:\n",
    "    json_data = json.load(f)\n",
    "    data = json_data.get(\"d\").get(\"results\")\n"
   ]
  },
  {
   "cell_type": "code",
   "execution_count": null,
   "metadata": {},
   "outputs": [],
   "source": [
    "pd.DataFrame(data)"
   ]
  }
 ],
 "metadata": {
  "kernelspec": {
   "display_name": "Python 3",
   "language": "python",
   "name": "python3"
  },
  "language_info": {
   "codemirror_mode": {
    "name": "ipython",
    "version": 3
   },
   "file_extension": ".py",
   "mimetype": "text/x-python",
   "name": "python",
   "nbconvert_exporter": "python",
   "pygments_lexer": "ipython3",
   "version": "3.10.0"
  }
 },
 "nbformat": 4,
 "nbformat_minor": 2
}
